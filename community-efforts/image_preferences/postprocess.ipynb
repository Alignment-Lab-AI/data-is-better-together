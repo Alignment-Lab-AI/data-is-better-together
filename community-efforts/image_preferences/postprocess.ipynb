{
 "cells": [
  {
   "cell_type": "code",
   "execution_count": 129,
   "metadata": {},
   "outputs": [
    {
     "name": "stderr",
     "output_type": "stream",
     "text": [
      "Generating train split: 100%|██████████| 5/5 [00:00<00:00, 502.30 examples/s]\n"
     ]
    }
   ],
   "source": [
    "from datasets import load_dataset\n",
    "import pandas as pd\n",
    "\n",
    "dataset = load_dataset(\"DIBT/img_prefs_style\", cache_dir=\"data\")\n",
    "df = dataset[\"train\"].to_pandas()"
   ]
  },
  {
   "cell_type": "code",
   "execution_count": 131,
   "metadata": {},
   "outputs": [],
   "source": [
    "prompt_columns = df.columns.where(df.columns.str.endswith(\"_prompt\")).dropna()\n",
    "df[\"generation\"] = df[prompt_columns].apply(lambda row: row.values, axis=1)\n",
    "df = df.drop(columns=prompt_columns)"
   ]
  },
  {
   "cell_type": "code",
   "execution_count": null,
   "metadata": {},
   "outputs": [],
   "source": [
    "categories = list(df.category.unique())\n",
    "sub_categories = list(df.subcategory.unique())"
   ]
  },
  {
   "cell_type": "code",
   "execution_count": null,
   "metadata": {},
   "outputs": [],
   "source": [
    "import argilla as rg\n",
    "\n",
    "client = rg.Argilla(\n",
    "    api_url=\"https://dibt-image-preferences-argilla.hf.space\",\n",
    "    api_key=\"_api_key_\",\n",
    ")"
   ]
  },
  {
   "cell_type": "code",
   "execution_count": 152,
   "metadata": {},
   "outputs": [
    {
     "name": "stderr",
     "output_type": "stream",
     "text": [
      "/Users/ben/code/data-is-better-together/.venv/lib/python3.11/site-packages/argilla/datasets/_resource.py:264: UserWarning: Workspace not provided. Using default workspace: argilla id: 943fe7cc-eebc-4da7-ba9d-da9f8a06a37a\n",
      "  warnings.warn(f\"Workspace not provided. Using default workspace: {workspace.name} id: {workspace.id}\")\n"
     ]
    },
    {
     "data": {
      "text/plain": [
       "Dataset(id=UUID('fcd5d89c-6b67-4d98-8b87-2275c22a6f93') inserted_at=datetime.datetime(2024, 11, 11, 17, 54, 26, 308632) updated_at=datetime.datetime(2024, 11, 11, 17, 54, 27, 58266) name='image_preferences' status='ready' guidelines=None allow_extra_metadata=True distribution=OverlapTaskDistributionModel(strategy='overlap', min_submitted=1) workspace_id=UUID('943fe7cc-eebc-4da7-ba9d-da9f8a06a37a') last_activity_at=datetime.datetime(2024, 11, 11, 17, 54, 27, 58266))"
      ]
     },
     "execution_count": 152,
     "metadata": {},
     "output_type": "execute_result"
    }
   ],
   "source": [
    "from importlib import metadata\n",
    "\n",
    "\n",
    "settings = rg.Settings(\n",
    "    fields=[\n",
    "        rg.CustomField(\"images\", template=\"template.html\"),\n",
    "    ],\n",
    "    questions=[\n",
    "        rg.LabelQuestion(\n",
    "            name=\"preference\",\n",
    "            description=\"Which image do you prefer given the prompt? \",\n",
    "            labels=[\"image_1\", \"image_2\", \"both_good\", \"both_bad\"],\n",
    "        ),\n",
    "    ],\n",
    "    metadata=[\n",
    "        rg.TermsMetadataProperty(\n",
    "            name=\"model_1\",\n",
    "            options=[\n",
    "                \"dev\",\n",
    "                \"schnell\",\n",
    "            ]\n",
    "        ),\n",
    "        rg.TermsMetadataProperty(\n",
    "            name=\"model_2\",\n",
    "            options=[\n",
    "                \"dev\",\n",
    "                \"schnell\",\n",
    "            ]\n",
    "        ),\n",
    "        rg.TermsMetadataProperty(\n",
    "            name=\"evolution\",\n",
    "            options=[\n",
    "                \"style\",\n",
    "                \"quality\",\n",
    "            ]\n",
    "        ),\n",
    "    ],\n",
    "    allow_extra_metadata=True,\n",
    ")\n",
    "dataset = rg.Dataset(\n",
    "    name=\"image_preferences\",\n",
    "    settings=settings,\n",
    ")\n",
    "dataset.create()"
   ]
  },
  {
   "cell_type": "code",
   "execution_count": null,
   "metadata": {},
   "outputs": [],
   "source": [
    "from importlib import metadata\n",
    "import requests\n",
    "from io import BytesIO\n",
    "from PIL import Image\n",
    "\n",
    "dataset_name = \"DIBT/img_prefs_style\"\n",
    "output_dir = \"images\"\n",
    "\n",
    "\n",
    "def make_image_from_url(image_url):\n",
    "    base_url = f\"https://huggingface.co/datasets/{dataset_name}/resolve/main/\"\n",
    "    full_url = base_url + image_url\n",
    "    return full_url\n",
    "\n",
    "\n",
    "records = []\n",
    "for i, row in df.iterrows():\n",
    "\n",
    "    for source, generation in zip(prompt_columns, row[\"generation\"]):\n",
    "        evolution = source.split(\"_\")[0]\n",
    "        image_columns = df.columns.where(\n",
    "            df.columns.str.startswith(f\"image_{evolution}\")\n",
    "        ).dropna()\n",
    "        image_1 = row[image_columns[0]][\"path\"]\n",
    "        image_2 = row[image_columns[1]][\"path\"]\n",
    "        image_1 = make_image_from_url(image_1)\n",
    "        image_2 = make_image_from_url(image_2)\n",
    "        model_1 = image_columns[0].split(\"_\")[-1]\n",
    "        model_2 = image_columns[1].split(\"_\")[-1]\n",
    "\n",
    "        record = rg.Record(\n",
    "            fields={\n",
    "                \"images\": {\n",
    "                    \"image_1\": image_1,\n",
    "                    \"image_2\": image_2,\n",
    "                    \"prompt\": generation,\n",
    "                }\n",
    "            },\n",
    "            metadata={\n",
    "                \"model_1\": model_1,\n",
    "                \"model_2\": model_2,\n",
    "                \"evolution\": evolution,\n",
    "                \"category\": row.category,\n",
    "                \"sub_category\": row.subcategory,\n",
    "            },\n",
    "        )\n",
    "        records.append(record)"
   ]
  },
  {
   "cell_type": "code",
   "execution_count": 154,
   "metadata": {},
   "outputs": [
    {
     "data": {
      "text/html": [
       "<pre style=\"white-space:pre;overflow-x:auto;line-height:normal;font-family:Menlo,'DejaVu Sans Mono',consolas,'Courier New',monospace\">DatasetRecords: The provided batch size <span style=\"color: #008080; text-decoration-color: #008080; font-weight: bold\">256</span> was normalized. Using value <span style=\"color: #008080; text-decoration-color: #008080; font-weight: bold\">10</span>.\n",
       "</pre>\n"
      ],
      "text/plain": [
       "DatasetRecords: The provided batch size \u001b[1;36m256\u001b[0m was normalized. Using value \u001b[1;36m10\u001b[0m.\n"
      ]
     },
     "metadata": {},
     "output_type": "display_data"
    },
    {
     "name": "stderr",
     "output_type": "stream",
     "text": [
      "Sending records...: 100%|██████████| 1/1 [00:00<00:00,  4.20batch/s]\n"
     ]
    },
    {
     "data": {
      "text/plain": [
       "DatasetRecords(Dataset(id=UUID('fcd5d89c-6b67-4d98-8b87-2275c22a6f93') inserted_at=datetime.datetime(2024, 11, 11, 17, 54, 26, 308632) updated_at=datetime.datetime(2024, 11, 11, 17, 54, 27, 58266) name='image_preferences' status='ready' guidelines=None allow_extra_metadata=True distribution=OverlapTaskDistributionModel(strategy='overlap', min_submitted=1) workspace_id=UUID('943fe7cc-eebc-4da7-ba9d-da9f8a06a37a') last_activity_at=datetime.datetime(2024, 11, 11, 17, 54, 27, 58266)))"
      ]
     },
     "execution_count": 154,
     "metadata": {},
     "output_type": "execute_result"
    }
   ],
   "source": [
    "dataset.records.log(records)"
   ]
  },
  {
   "cell_type": "code",
   "execution_count": null,
   "metadata": {},
   "outputs": [],
   "source": []
  }
 ],
 "metadata": {
  "kernelspec": {
   "display_name": ".venv",
   "language": "python",
   "name": "python3"
  },
  "language_info": {
   "codemirror_mode": {
    "name": "ipython",
    "version": 3
   },
   "file_extension": ".py",
   "mimetype": "text/x-python",
   "name": "python",
   "nbconvert_exporter": "python",
   "pygments_lexer": "ipython3",
   "version": "3.11.9"
  }
 },
 "nbformat": 4,
 "nbformat_minor": 2
}
