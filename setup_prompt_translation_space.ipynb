{
 "cells": [
  {
   "cell_type": "code",
   "execution_count": 71,
   "metadata": {},
   "outputs": [
    {
     "name": "stdout",
     "output_type": "stream",
     "text": [
      "3511.50s - pydevd: Sending message related to process being replaced timed-out after 5 seconds\n",
      "Requirement already satisfied: huggingface_hub in ./.venv/lib/python3.11/site-packages (0.21.4)\n",
      "Requirement already satisfied: argilla in ./.venv/lib/python3.11/site-packages (1.25.0)\n",
      "Collecting datasets\n",
      "  Using cached datasets-2.18.0-py3-none-any.whl.metadata (20 kB)\n",
      "Requirement already satisfied: filelock in ./.venv/lib/python3.11/site-packages (from huggingface_hub) (3.13.1)\n",
      "Requirement already satisfied: fsspec>=2023.5.0 in ./.venv/lib/python3.11/site-packages (from huggingface_hub) (2024.2.0)\n",
      "Requirement already satisfied: requests in ./.venv/lib/python3.11/site-packages (from huggingface_hub) (2.31.0)\n",
      "Requirement already satisfied: tqdm>=4.42.1 in ./.venv/lib/python3.11/site-packages (from huggingface_hub) (4.66.2)\n",
      "Requirement already satisfied: pyyaml>=5.1 in ./.venv/lib/python3.11/site-packages (from huggingface_hub) (6.0.1)\n",
      "Requirement already satisfied: typing-extensions>=3.7.4.3 in ./.venv/lib/python3.11/site-packages (from huggingface_hub) (4.10.0)\n",
      "Requirement already satisfied: packaging>=20.9 in ./.venv/lib/python3.11/site-packages (from huggingface_hub) (24.0)\n",
      "Requirement already satisfied: httpx<=0.26,>=0.15 in ./.venv/lib/python3.11/site-packages (from argilla) (0.26.0)\n",
      "Requirement already satisfied: deprecated~=1.2.0 in ./.venv/lib/python3.11/site-packages (from argilla) (1.2.14)\n",
      "Requirement already satisfied: pandas>=1.0.0 in ./.venv/lib/python3.11/site-packages (from argilla) (2.2.1)\n",
      "Requirement already satisfied: pydantic>=1.10.7 in ./.venv/lib/python3.11/site-packages (from argilla) (2.6.3)\n",
      "Requirement already satisfied: wrapt<1.15,>=1.13 in ./.venv/lib/python3.11/site-packages (from argilla) (1.14.1)\n",
      "Requirement already satisfied: numpy<1.24.0 in ./.venv/lib/python3.11/site-packages (from argilla) (1.23.5)\n",
      "Requirement already satisfied: backoff in ./.venv/lib/python3.11/site-packages (from argilla) (2.2.1)\n",
      "Requirement already satisfied: monotonic in ./.venv/lib/python3.11/site-packages (from argilla) (1.6)\n",
      "Requirement already satisfied: rich!=13.1.0 in ./.venv/lib/python3.11/site-packages (from argilla) (13.7.1)\n",
      "Requirement already satisfied: typer<0.10.0,>=0.6.0 in ./.venv/lib/python3.11/site-packages (from argilla) (0.9.0)\n",
      "Requirement already satisfied: nltk<4.0.0 in ./.venv/lib/python3.11/site-packages (from argilla) (3.8.1)\n",
      "Collecting pyarrow>=12.0.0 (from datasets)\n",
      "  Downloading pyarrow-15.0.1-cp311-cp311-macosx_11_0_arm64.whl.metadata (3.0 kB)\n",
      "Collecting pyarrow-hotfix (from datasets)\n",
      "  Using cached pyarrow_hotfix-0.6-py3-none-any.whl.metadata (3.6 kB)\n",
      "Collecting dill<0.3.9,>=0.3.0 (from datasets)\n",
      "  Using cached dill-0.3.8-py3-none-any.whl.metadata (10 kB)\n",
      "Collecting xxhash (from datasets)\n",
      "  Using cached xxhash-3.4.1-cp311-cp311-macosx_11_0_arm64.whl.metadata (12 kB)\n",
      "Collecting multiprocess (from datasets)\n",
      "  Using cached multiprocess-0.70.16-py311-none-any.whl.metadata (7.2 kB)\n",
      "Collecting aiohttp (from datasets)\n",
      "  Using cached aiohttp-3.9.3-cp311-cp311-macosx_11_0_arm64.whl.metadata (7.4 kB)\n",
      "Collecting aiosignal>=1.1.2 (from aiohttp->datasets)\n",
      "  Using cached aiosignal-1.3.1-py3-none-any.whl.metadata (4.0 kB)\n",
      "Collecting attrs>=17.3.0 (from aiohttp->datasets)\n",
      "  Using cached attrs-23.2.0-py3-none-any.whl.metadata (9.5 kB)\n",
      "Collecting frozenlist>=1.1.1 (from aiohttp->datasets)\n",
      "  Using cached frozenlist-1.4.1-cp311-cp311-macosx_11_0_arm64.whl.metadata (12 kB)\n",
      "Collecting multidict<7.0,>=4.5 (from aiohttp->datasets)\n",
      "  Using cached multidict-6.0.5-cp311-cp311-macosx_11_0_arm64.whl.metadata (4.2 kB)\n",
      "Collecting yarl<2.0,>=1.0 (from aiohttp->datasets)\n",
      "  Using cached yarl-1.9.4-cp311-cp311-macosx_11_0_arm64.whl.metadata (31 kB)\n",
      "Requirement already satisfied: anyio in ./.venv/lib/python3.11/site-packages (from httpx<=0.26,>=0.15->argilla) (4.3.0)\n",
      "Requirement already satisfied: certifi in ./.venv/lib/python3.11/site-packages (from httpx<=0.26,>=0.15->argilla) (2024.2.2)\n",
      "Requirement already satisfied: httpcore==1.* in ./.venv/lib/python3.11/site-packages (from httpx<=0.26,>=0.15->argilla) (1.0.4)\n",
      "Requirement already satisfied: idna in ./.venv/lib/python3.11/site-packages (from httpx<=0.26,>=0.15->argilla) (3.6)\n",
      "Requirement already satisfied: sniffio in ./.venv/lib/python3.11/site-packages (from httpx<=0.26,>=0.15->argilla) (1.3.1)\n",
      "Requirement already satisfied: h11<0.15,>=0.13 in ./.venv/lib/python3.11/site-packages (from httpcore==1.*->httpx<=0.26,>=0.15->argilla) (0.14.0)\n",
      "Requirement already satisfied: click in ./.venv/lib/python3.11/site-packages (from nltk<4.0.0->argilla) (8.1.7)\n",
      "Requirement already satisfied: joblib in ./.venv/lib/python3.11/site-packages (from nltk<4.0.0->argilla) (1.3.2)\n",
      "Requirement already satisfied: regex>=2021.8.3 in ./.venv/lib/python3.11/site-packages (from nltk<4.0.0->argilla) (2023.12.25)\n",
      "Requirement already satisfied: python-dateutil>=2.8.2 in ./.venv/lib/python3.11/site-packages (from pandas>=1.0.0->argilla) (2.9.0.post0)\n",
      "Requirement already satisfied: pytz>=2020.1 in ./.venv/lib/python3.11/site-packages (from pandas>=1.0.0->argilla) (2024.1)\n",
      "Requirement already satisfied: tzdata>=2022.7 in ./.venv/lib/python3.11/site-packages (from pandas>=1.0.0->argilla) (2024.1)\n",
      "Requirement already satisfied: annotated-types>=0.4.0 in ./.venv/lib/python3.11/site-packages (from pydantic>=1.10.7->argilla) (0.6.0)\n",
      "Requirement already satisfied: pydantic-core==2.16.3 in ./.venv/lib/python3.11/site-packages (from pydantic>=1.10.7->argilla) (2.16.3)\n",
      "Requirement already satisfied: charset-normalizer<4,>=2 in ./.venv/lib/python3.11/site-packages (from requests->huggingface_hub) (3.3.2)\n",
      "Requirement already satisfied: urllib3<3,>=1.21.1 in ./.venv/lib/python3.11/site-packages (from requests->huggingface_hub) (2.2.1)\n",
      "Requirement already satisfied: markdown-it-py>=2.2.0 in ./.venv/lib/python3.11/site-packages (from rich!=13.1.0->argilla) (3.0.0)\n",
      "Requirement already satisfied: pygments<3.0.0,>=2.13.0 in ./.venv/lib/python3.11/site-packages (from rich!=13.1.0->argilla) (2.17.2)\n",
      "Requirement already satisfied: mdurl~=0.1 in ./.venv/lib/python3.11/site-packages (from markdown-it-py>=2.2.0->rich!=13.1.0->argilla) (0.1.2)\n",
      "Requirement already satisfied: six>=1.5 in ./.venv/lib/python3.11/site-packages (from python-dateutil>=2.8.2->pandas>=1.0.0->argilla) (1.16.0)\n",
      "Using cached datasets-2.18.0-py3-none-any.whl (510 kB)\n",
      "Using cached dill-0.3.8-py3-none-any.whl (116 kB)\n",
      "Using cached aiohttp-3.9.3-cp311-cp311-macosx_11_0_arm64.whl (387 kB)\n",
      "Downloading pyarrow-15.0.1-cp311-cp311-macosx_11_0_arm64.whl (24.2 MB)\n",
      "\u001b[2K   \u001b[38;2;114;156;31m━━━━━━━━━━━━━━━━━━━━━━━━━━━━━━━━━━━━━━━━\u001b[0m \u001b[32m24.2/24.2 MB\u001b[0m \u001b[31m20.5 MB/s\u001b[0m eta \u001b[36m0:00:00\u001b[0mm eta \u001b[36m0:00:01\u001b[0m[36m0:00:01\u001b[0m\n",
      "\u001b[?25hUsing cached multiprocess-0.70.16-py311-none-any.whl (143 kB)\n",
      "Using cached pyarrow_hotfix-0.6-py3-none-any.whl (7.9 kB)\n",
      "Using cached xxhash-3.4.1-cp311-cp311-macosx_11_0_arm64.whl (30 kB)\n",
      "Using cached aiosignal-1.3.1-py3-none-any.whl (7.6 kB)\n",
      "Using cached attrs-23.2.0-py3-none-any.whl (60 kB)\n",
      "Using cached frozenlist-1.4.1-cp311-cp311-macosx_11_0_arm64.whl (53 kB)\n",
      "Using cached multidict-6.0.5-cp311-cp311-macosx_11_0_arm64.whl (30 kB)\n",
      "Using cached yarl-1.9.4-cp311-cp311-macosx_11_0_arm64.whl (81 kB)\n",
      "Installing collected packages: xxhash, pyarrow-hotfix, pyarrow, multidict, frozenlist, dill, attrs, yarl, multiprocess, aiosignal, aiohttp, datasets\n",
      "Successfully installed aiohttp-3.9.3 aiosignal-1.3.1 attrs-23.2.0 datasets-2.18.0 dill-0.3.8 frozenlist-1.4.1 multidict-6.0.5 multiprocess-0.70.16 pyarrow-15.0.1 pyarrow-hotfix-0.6 xxhash-3.4.1 yarl-1.9.4\n",
      "Note: you may need to restart the kernel to use updated packages.\n"
     ]
    }
   ],
   "source": [
    "%pip install huggingface_hub argilla datasets"
   ]
  },
  {
   "cell_type": "markdown",
   "metadata": {},
   "source": [
    "# Steps\n",
    "\n",
    "The overall steps to create a new Argilla Space for translating a new language are as follows:\n",
    "\n",
    "1. Setup an organization on the Hub\n",
    "2. Create an Argilla Space\n",
    "3. Setup the Oauth integration \n",
    "4. Load the DIBT data into the Argilla Space\n",
    "5. Begin translating the data!\n",
    "\n",
    "\n",
    "This notebook will walks through each of these steps. Some of the steps are done using the `huggingface_hub` CLI, other parts of the process can only be done in the UI, but we will also show how to do them using the API."
   ]
  },
  {
   "cell_type": "code",
   "execution_count": 146,
   "metadata": {},
   "outputs": [],
   "source": [
    "from huggingface_hub import duplicate_space\n",
    "from huggingface_hub import hf_hub_download\n",
    "from huggingface_hub import HfApi\n",
    "from huggingface_hub import SpaceCard\n",
    "import yaml\n",
    "import json"
   ]
  },
  {
   "cell_type": "markdown",
   "metadata": {},
   "source": [
    "### Create a new organization for your language effort \n",
    "\n",
    "To make it easier to keep track of your language effort, we recommend creating a new organization for your language effort. This will allow you to keep all of your language effort data in one place. We suggest naming this organization \"DIBT-<language>\" where <language> is the name of your language. For example, if you are working on the language \"Spanish\", you would name your organization \"DIBT-Spanish\". This will make it easier for us to track all of the DIBT language efforts.\n",
    "\n",
    "You can use this link to create a new organization on the Hub: [https://huggingface.co/organizations/new](https://huggingface.co/organizations/new). "
   ]
  },
  {
   "cell_type": "code",
   "execution_count": 153,
   "metadata": {},
   "outputs": [],
   "source": [
    "HF_ORG_NAME = None\n",
    "LANGUAGE = None"
   ]
  },
  {
   "cell_type": "code",
   "execution_count": 154,
   "metadata": {},
   "outputs": [
    {
     "ename": "AssertionError",
     "evalue": "Please set HF_ORG_NAME to the name of the Hugging Face org you just created",
     "output_type": "error",
     "traceback": [
      "\u001b[0;31m---------------------------------------------------------------------------\u001b[0m",
      "\u001b[0;31mAssertionError\u001b[0m                            Traceback (most recent call last)",
      "Cell \u001b[0;32mIn[154], line 1\u001b[0m\n\u001b[0;32m----> 1\u001b[0m \u001b[38;5;28;01massert\u001b[39;00m HF_ORG_NAME \u001b[38;5;129;01mis\u001b[39;00m \u001b[38;5;129;01mnot\u001b[39;00m \u001b[38;5;28;01mNone\u001b[39;00m, \u001b[38;5;124m\"\u001b[39m\u001b[38;5;124mPlease set HF_ORG_NAME to the name of the Hugging Face org you just created\u001b[39m\u001b[38;5;124m\"\u001b[39m\n",
      "\u001b[0;31mAssertionError\u001b[0m: Please set HF_ORG_NAME to the name of the Hugging Face org you just created"
     ]
    }
   ],
   "source": [
    "assert HF_ORG_NAME is not None, \"Please set HF_ORG_NAME to the name of the Hugging Face org you just created\"\n",
    "assert LANGUAGE is not None, \"Please set LANGUAGE to the language your effort focuses on\""
   ]
  },
  {
   "cell_type": "markdown",
   "metadata": {},
   "source": [
    "# Setup the Space"
   ]
  },
  {
   "cell_type": "markdown",
   "metadata": {},
   "source": [
    "We will use the `huggingface_hub` CLI to create a new Space for our language effort by cloning an existing template Space. We could also do this via the UI but we'll also update some of the settings using the API in this notebook to reduce the amount of steps you need to do in the UI. Before we do this we need to authenticate with the Hub. "
   ]
  },
  {
   "cell_type": "code",
   "execution_count": 155,
   "metadata": {},
   "outputs": [],
   "source": [
    "from huggingface_hub import login"
   ]
  },
  {
   "cell_type": "code",
   "execution_count": 156,
   "metadata": {},
   "outputs": [
    {
     "data": {
      "application/vnd.jupyter.widget-view+json": {
       "model_id": "8e7e612667a14000bf95cc7d688c692b",
       "version_major": 2,
       "version_minor": 0
      },
      "text/plain": [
       "VBox(children=(HTML(value='<center> <img\\nsrc=https://huggingface.co/front/assets/huggingface_logo-noborder.sv…"
      ]
     },
     "metadata": {},
     "output_type": "display_data"
    }
   ],
   "source": [
    "login()"
   ]
  },
  {
   "cell_type": "code",
   "execution_count": 157,
   "metadata": {},
   "outputs": [],
   "source": [
    "api = HfApi()"
   ]
  },
  {
   "cell_type": "markdown",
   "metadata": {},
   "source": [
    "This step duplicates the existing Argilla Space to your organization. "
   ]
  },
  {
   "cell_type": "code",
   "execution_count": 158,
   "metadata": {},
   "outputs": [
    {
     "ename": "NameError",
     "evalue": "name 'LANGUAGE' is not defined",
     "output_type": "error",
     "traceback": [
      "\u001b[0;31m---------------------------------------------------------------------------\u001b[0m",
      "\u001b[0;31mNameError\u001b[0m                                 Traceback (most recent call last)",
      "Cell \u001b[0;32mIn[158], line 2\u001b[0m\n\u001b[1;32m      1\u001b[0m from_id \u001b[38;5;241m=\u001b[39m \u001b[38;5;124m\"\u001b[39m\u001b[38;5;124margilla/argilla-template-space\u001b[39m\u001b[38;5;124m\"\u001b[39m\n\u001b[0;32m----> 2\u001b[0m to_id \u001b[38;5;241m=\u001b[39m  \u001b[38;5;124mf\u001b[39m\u001b[38;5;124m\"\u001b[39m\u001b[38;5;132;01m{\u001b[39;00mHF_ORG_NAME\u001b[38;5;132;01m}\u001b[39;00m\u001b[38;5;124m/prompt-translation-for-\u001b[39m\u001b[38;5;132;01m{\u001b[39;00m\u001b[43mLANGUAGE\u001b[49m\u001b[38;5;132;01m}\u001b[39;00m\u001b[38;5;124m\"\u001b[39m\n\u001b[1;32m      3\u001b[0m new_space \u001b[38;5;241m=\u001b[39m duplicate_space(from_id, to_id\u001b[38;5;241m=\u001b[39mto_id)\n\u001b[1;32m      4\u001b[0m new_space\n",
      "\u001b[0;31mNameError\u001b[0m: name 'LANGUAGE' is not defined"
     ]
    }
   ],
   "source": [
    "from_id = \"argilla/argilla-template-space\"\n",
    "to_id =  f\"{HF_ORG_NAME}/prompt-translation-for-{LANGUAGE}\"\n",
    "new_space = duplicate_space(from_id, to_id=to_id)\n",
    "new_space"
   ]
  },
  {
   "cell_type": "markdown",
   "metadata": {},
   "source": [
    "We update the tile and description of the Space to reflect the language we are translating."
   ]
  },
  {
   "cell_type": "code",
   "execution_count": 48,
   "metadata": {},
   "outputs": [
    {
     "data": {
      "text/plain": [
       "{'title': 'Argilla Space Template', 'sdk': 'docker', 'sdk_version': None, 'python_version': None, 'app_file': None, 'app_port': 6900, 'license': None, 'duplicated_from': None, 'models': None, 'datasets': None, 'tags': ['argilla'], 'emoji': '🏷️', 'colorFrom': 'purple', 'colorTo': 'red', 'fullWidth': True}"
      ]
     },
     "execution_count": 48,
     "metadata": {},
     "output_type": "execute_result"
    }
   ],
   "source": [
    "card = SpaceCard.load(to_id)\n",
    "card.data.title = f\"DIBT Translation for {LANGUAGE}\"\n",
    "card.push_to_hub(to_id)"
   ]
  },
  {
   "cell_type": "markdown",
   "metadata": {},
   "source": [
    "## Setup Oauth Integration\n",
    "\n",
    "We will setup Oauth integration for the Space. This will makes it possible for anyone with a Hugging Face account to contribute to the translation effort. You can find a full guide on how to do this [here](https://docs.argilla.io/en/latest/getting_started/installation/deployments/huggingface-spaces.html#setting-up-hf-authentication) but we'll walk through the steps in this notebook."
   ]
  },
  {
   "cell_type": "markdown",
   "metadata": {},
   "source": [
    "We'll download the `.oauth.yaml` file from the Space we just created, set the `enabled` field to `true` and then upload the file back to the Space."
   ]
  },
  {
   "cell_type": "code",
   "execution_count": 159,
   "metadata": {},
   "outputs": [],
   "source": [
    "file = hf_hub_download(\n",
    "    repo_id=to_id, filename=\".oauth.yaml\", repo_type=\"space\", local_dir=\".\"\n",
    ")"
   ]
  },
  {
   "cell_type": "code",
   "execution_count": 44,
   "metadata": {},
   "outputs": [],
   "source": [
    "with open(file, \"r\") as f:\n",
    "    oauth = yaml.safe_load(f)\n",
    "oauth['enabled'] = True\n",
    "with open(file, \"w\") as f:\n",
    "    f.write(yaml.dump(oauth))"
   ]
  },
  {
   "cell_type": "code",
   "execution_count": 27,
   "metadata": {},
   "outputs": [
    {
     "data": {
      "text/plain": [
       "CommitInfo(commit_url='https://huggingface.co/spaces/dibt-testy/dibt-translation/commit/4742ea4faea869d320cb7601394d398e1296d909', commit_message='Upload ./.oauth.yaml with huggingface_hub', commit_description='', oid='4742ea4faea869d320cb7601394d398e1296d909', pr_url=None, pr_revision=None, pr_num=None)"
      ]
     },
     "execution_count": 27,
     "metadata": {},
     "output_type": "execute_result"
    }
   ],
   "source": [
    "api.upload_file(\n",
    "    path_or_fileobj=file,\n",
    "    path_in_repo=file,\n",
    "    repo_id=to_id,\n",
    "    repo_type=\"space\",\n",
    ")"
   ]
  },
  {
   "cell_type": "markdown",
   "metadata": {},
   "source": [
    "## Create an application on the Hub\n",
    "\n",
    "To enable the Oauth integration we need to create an application on the Hub. We can do this via the Hugging Face settings UI.\n",
    "\n",
    "- Go to this page: [https://huggingface.co/settings/applications/new](https://huggingface.co/settings/applications/new)\n",
    "- Complete the form to create a new application. You will need to provide the following values:\n",
    "  - Homepage URL: Your Argilla Space Direct URL.\n",
    "  - Logo URL: [Your Argilla Space Direct URL]/favicon.ico\n",
    "  - Scopes: openid and profile.\n",
    "  - Redirect URL: [Your Argilla Space Direct URL]/oauth/huggingface/callback\n",
    "\n",
    "The cell below will show you the URL for these values\n",
    "\n"
   ]
  },
  {
   "cell_type": "code",
   "execution_count": 174,
   "metadata": {},
   "outputs": [
    {
     "name": "stdout",
     "output_type": "stream",
     "text": [
      "Homepage URL: https://dibt-testy-dibt-translation.hf.space \n",
      " Logo URL: https://dibt-testy-dibt-translation.hf.space/favicon.ico \n",
      " Redirect URL: https://dibt-testy-dibt-translation.hf.space/oauth/huggingface/callback\n"
     ]
    }
   ],
   "source": [
    "homepage_url = f\"https://{new_space.repo_id.replace('/', '-')}.hf.space\"\n",
    "favicon_url = f\"{homepage_url}/favicon.ico\"\n",
    "redirect_url = f\"{homepage_url}/oauth/huggingface/callback\"\n",
    "print(f\"Homepage URL: {homepage_url} \\n Logo URL: {favicon_url} \\n Redirect URL: {redirect_url}\")"
   ]
  },
  {
   "cell_type": "markdown",
   "metadata": {},
   "source": [
    "Once we have created the application we will need to update our Space secrets to add these values:\n",
    "\n",
    "- `OAUTH2_HUGGINGFACE_CLIENT_ID`: [Your Client ID]\n",
    "- `OAUTH2_HUGGINGFACE_CLIENT_SECRET` : [Your App Secret]\n",
    "\n",
    "You can add these secrets via the `settings` tab in the UI. "
   ]
  },
  {
   "cell_type": "markdown",
   "metadata": {},
   "source": [
    "TODO add instruction on setting up other secrets? "
   ]
  },
  {
   "cell_type": "code",
   "execution_count": null,
   "metadata": {},
   "outputs": [],
   "source": [
    "from huggingface_hub import restart_space\n",
    "\n",
    "restart_space(to_id, factory_reboot=True)"
   ]
  },
  {
   "cell_type": "markdown",
   "metadata": {},
   "source": [
    "## Load the DIBT data into the Argilla Space"
   ]
  },
  {
   "cell_type": "code",
   "execution_count": 175,
   "metadata": {},
   "outputs": [],
   "source": [
    "from datasets import load_dataset\n",
    "ds = load_dataset('DIBT/prompts_ranked_multilingual_benchmark')"
   ]
  },
  {
   "cell_type": "code",
   "execution_count": 176,
   "metadata": {},
   "outputs": [],
   "source": [
    "import argilla as rg"
   ]
  },
  {
   "cell_type": "code",
   "execution_count": null,
   "metadata": {},
   "outputs": [],
   "source": [
    "ARGILLA_API_TOKEN = None\n",
    "assert ARGILLA_API_TOKEN is not None, \"Please set ARGILLA_API_TOKEN to the API token you just created\""
   ]
  },
  {
   "cell_type": "code",
   "execution_count": 119,
   "metadata": {},
   "outputs": [],
   "source": [
    "rg.init(homepage_url, ARGILLA_API_TOKEN, \"admin\")"
   ]
  },
  {
   "cell_type": "code",
   "execution_count": 179,
   "metadata": {},
   "outputs": [
    {
     "data": {
      "text/plain": [
       "FeedbackDataset(\n",
       "   fields=[TextField(name='source', title='Source', required=True, type='text', use_markdown=True)]\n",
       "   questions=[TextQuestion(name='target', title='Target', description='Translate the text.', required=True, type='text', use_markdown=True)]\n",
       "   guidelines=This is a translation dataset that contains texts. Please translate the text in the text field.)\n",
       "   metadata_properties=[])\n",
       "   vectors_settings=[])\n",
       ")"
      ]
     },
     "execution_count": 179,
     "metadata": {},
     "output_type": "execute_result"
    }
   ],
   "source": [
    "argilla_ds = rg.FeedbackDataset.for_translation(\n",
    "    use_markdown=True,\n",
    "    guidelines=None,\n",
    "    metadata_properties=None,\n",
    "    vectors_settings=None,\n",
    ")\n",
    "argilla_ds"
   ]
  },
  {
   "cell_type": "code",
   "execution_count": 124,
   "metadata": {},
   "outputs": [
    {
     "name": "stdout",
     "output_type": "stream",
     "text": [
      "\u001b[2;36m[03/11/24 13:06:49]\u001b[0m\u001b[2;36m \u001b[0m\u001b[34mINFO    \u001b[0m INFO:argilla.client.feedback.dataset. \u001b]8;id=253345;file:///Users/davanstrien/Documents/code/argilla/dibt-translation/.venv/lib/python3.11/site-packages/argilla/client/feedback/dataset/local/mixins.py\u001b\\\u001b[2mmixins.py\u001b[0m\u001b]8;;\u001b\\\u001b[2m:\u001b[0m\u001b]8;id=524488;file:///Users/davanstrien/Documents/code/argilla/dibt-translation/.venv/lib/python3.11/site-packages/argilla/client/feedback/dataset/local/mixins.py#281\u001b\\\u001b[2m281\u001b[0m\u001b]8;;\u001b\\\n",
      "\u001b[2;36m                    \u001b[0m         local.mixins:✓ Dataset succesfully    \u001b[2m             \u001b[0m\n",
      "\u001b[2;36m                    \u001b[0m         pushed to Argilla                     \u001b[2m             \u001b[0m\n",
      "\u001b[2;36m                   \u001b[0m\u001b[2;36m \u001b[0m\u001b[34mINFO    \u001b[0m INFO:argilla.client.feedback.dataset. \u001b]8;id=625630;file:///Users/davanstrien/Documents/code/argilla/dibt-translation/.venv/lib/python3.11/site-packages/argilla/client/feedback/dataset/local/mixins.py\u001b\\\u001b[2mmixins.py\u001b[0m\u001b]8;;\u001b\\\u001b[2m:\u001b[0m\u001b]8;id=251177;file:///Users/davanstrien/Documents/code/argilla/dibt-translation/.venv/lib/python3.11/site-packages/argilla/client/feedback/dataset/local/mixins.py#282\u001b\\\u001b[2m282\u001b[0m\u001b]8;;\u001b\\\n",
      "\u001b[2;36m                    \u001b[0m         local.mixins:\u001b[1;35mRemoteFeedbackDataset\u001b[0m\u001b[1m(\u001b[0m   \u001b[2m             \u001b[0m\n",
      "\u001b[2;36m                    \u001b[0m            \u001b[33mid\u001b[0m=\u001b[93mec60583c\u001b[0m\u001b[93m-a420-4f18-97f4-18c4864\u001b[0m \u001b[2m             \u001b[0m\n",
      "\u001b[2;36m                    \u001b[0m         \u001b[93m26f7f\u001b[0m                                 \u001b[2m             \u001b[0m\n",
      "\u001b[2;36m                    \u001b[0m            \u001b[33mname\u001b[0m=\u001b[35mDIBT\u001b[0m Translation for test     \u001b[2m             \u001b[0m\n",
      "\u001b[2;36m                    \u001b[0m            \u001b[33mworkspace\u001b[0m=\u001b[1;35mWorkspace\u001b[0m\u001b[1m(\u001b[0m\u001b[33mid\u001b[0m=\u001b[93m5b8d771c\u001b[0m\u001b[93m-57\u001b[0m \u001b[2m             \u001b[0m\n",
      "\u001b[2;36m                    \u001b[0m         \u001b[93m6e-4519-935c-097f47d82832\u001b[0m,            \u001b[2m             \u001b[0m\n",
      "\u001b[2;36m                    \u001b[0m         \u001b[33mname\u001b[0m=\u001b[35madmin\u001b[0m, \u001b[33minserted_at\u001b[0m=\u001b[1;36m2024\u001b[0m-\u001b[1;36m03\u001b[0m-\u001b[1;36m11\u001b[0m    \u001b[2m             \u001b[0m\n",
      "\u001b[2;36m                    \u001b[0m         \u001b[1;92m12:47:22\u001b[0m.\u001b[1;36m332738\u001b[0m,                      \u001b[2m             \u001b[0m\n",
      "\u001b[2;36m                    \u001b[0m         \u001b[33mupdated_at\u001b[0m=\u001b[1;36m2024\u001b[0m-\u001b[1;36m03\u001b[0m-\u001b[1;36m11\u001b[0m                 \u001b[2m             \u001b[0m\n",
      "\u001b[2;36m                    \u001b[0m         \u001b[1;92m12:47:22\u001b[0m.\u001b[1;36m332738\u001b[0m\u001b[1m)\u001b[0m                      \u001b[2m             \u001b[0m\n",
      "\u001b[2;36m                    \u001b[0m            \u001b[33murl\u001b[0m=\u001b[4;94mhttps\u001b[0m\u001b[4;94m://dibt-testy-dibt-transl\u001b[0m \u001b[2m             \u001b[0m\n",
      "\u001b[2;36m                    \u001b[0m         \u001b[4;94mation.hf.space/dataset/ec60583c-a420-\u001b[0m \u001b[2m             \u001b[0m\n",
      "\u001b[2;36m                    \u001b[0m         \u001b[4;94m4f18-97f4-18c486426f7f/annotation-mod\u001b[0m \u001b[2m             \u001b[0m\n",
      "\u001b[2;36m                    \u001b[0m         \u001b[4;94me\u001b[0m                                     \u001b[2m             \u001b[0m\n",
      "\u001b[2;36m                    \u001b[0m            \u001b[33mfields\u001b[0m=\u001b[1m[\u001b[0m\u001b[1;35mRemoteTextField\u001b[0m\u001b[1m(\u001b[0m\u001b[33mid\u001b[0m=\u001b[1;35mUUID\u001b[0m\u001b[1m(\u001b[0m\u001b[32m'8\u001b[0m \u001b[2m             \u001b[0m\n",
      "\u001b[2;36m                    \u001b[0m         \u001b[32m4e58b01-12b2-4813-a95d-b0a394815f2a'\u001b[0m\u001b[1m)\u001b[0m \u001b[2m             \u001b[0m\n",
      "\u001b[2;36m                    \u001b[0m         , \u001b[33mclient\u001b[0m=\u001b[3;35mNone\u001b[0m, \u001b[33mname\u001b[0m=\u001b[32m'source'\u001b[0m,         \u001b[2m             \u001b[0m\n",
      "\u001b[2;36m                    \u001b[0m         \u001b[33mtitle\u001b[0m=\u001b[32m'Source'\u001b[0m, \u001b[33mrequired\u001b[0m=\u001b[3;92mTrue\u001b[0m,        \u001b[2m             \u001b[0m\n",
      "\u001b[2;36m                    \u001b[0m         \u001b[33mtype\u001b[0m=\u001b[32m'text'\u001b[0m, \u001b[33muse_markdown\u001b[0m=\u001b[3;92mTrue\u001b[0m\u001b[1m)\u001b[0m\u001b[1m]\u001b[0m      \u001b[2m             \u001b[0m\n",
      "\u001b[2;36m                    \u001b[0m            \u001b[33mquestions\u001b[0m=\u001b[1m[\u001b[0m\u001b[1;35mRemoteTextQuestion\u001b[0m\u001b[1m(\u001b[0m\u001b[33mid\u001b[0m=\u001b[1;35mU\u001b[0m \u001b[2m             \u001b[0m\n",
      "\u001b[2;36m                    \u001b[0m         \u001b[1;35mUID\u001b[0m\u001b[1m(\u001b[0m\u001b[32m'ed49f771-67e8-4422-96e1-2724c089\u001b[0m \u001b[2m             \u001b[0m\n",
      "\u001b[2;36m                    \u001b[0m         \u001b[32me34f'\u001b[0m\u001b[1m)\u001b[0m, \u001b[33mclient\u001b[0m=\u001b[3;35mNone\u001b[0m, \u001b[33mname\u001b[0m=\u001b[32m'target'\u001b[0m,   \u001b[2m             \u001b[0m\n",
      "\u001b[2;36m                    \u001b[0m         \u001b[33mtitle\u001b[0m=\u001b[32m'Target'\u001b[0m, \u001b[33mdescription\u001b[0m=\u001b[3;35mNone\u001b[0m,     \u001b[2m             \u001b[0m\n",
      "\u001b[2;36m                    \u001b[0m         \u001b[33mrequired\u001b[0m=\u001b[3;92mTrue\u001b[0m, \u001b[33mtype\u001b[0m=\u001b[32m'text'\u001b[0m,           \u001b[2m             \u001b[0m\n",
      "\u001b[2;36m                    \u001b[0m         \u001b[33muse_markdown\u001b[0m=\u001b[3;92mTrue\u001b[0m\u001b[1m)\u001b[0m\u001b[1m]\u001b[0m                   \u001b[2m             \u001b[0m\n",
      "\u001b[2;36m                    \u001b[0m            \u001b[33mguidelines\u001b[0m=\u001b[35mThis\u001b[0m is a translation   \u001b[2m             \u001b[0m\n",
      "\u001b[2;36m                    \u001b[0m         dataset that contains texts. Please   \u001b[2m             \u001b[0m\n",
      "\u001b[2;36m                    \u001b[0m         translate the text in the text field. \u001b[2m             \u001b[0m\n",
      "\u001b[2;36m                    \u001b[0m            \u001b[33mmetadata_properties\u001b[0m=\u001b[1m[\u001b[0m\u001b[1m]\u001b[0m             \u001b[2m             \u001b[0m\n",
      "\u001b[2;36m                    \u001b[0m            \u001b[33mvectors_settings\u001b[0m=\u001b[1m[\u001b[0m\u001b[1m]\u001b[0m                \u001b[2m             \u001b[0m\n",
      "\u001b[2;36m                    \u001b[0m         \u001b[1m)\u001b[0m                                     \u001b[2m             \u001b[0m\n"
     ]
    },
    {
     "data": {
      "text/plain": [
       "RemoteFeedbackDataset(\n",
       "   id=ec60583c-a420-4f18-97f4-18c486426f7f\n",
       "   name=DIBT Translation for test\n",
       "   workspace=Workspace(id=5b8d771c-576e-4519-935c-097f47d82832, name=admin, inserted_at=2024-03-11 12:47:22.332738, updated_at=2024-03-11 12:47:22.332738)\n",
       "   url=https://dibt-testy-dibt-translation.hf.space/dataset/ec60583c-a420-4f18-97f4-18c486426f7f/annotation-mode\n",
       "   fields=[RemoteTextField(id=UUID('84e58b01-12b2-4813-a95d-b0a394815f2a'), client=None, name='source', title='Source', required=True, type='text', use_markdown=True)]\n",
       "   questions=[RemoteTextQuestion(id=UUID('ed49f771-67e8-4422-96e1-2724c089e34f'), client=None, name='target', title='Target', description=None, required=True, type='text', use_markdown=True)]\n",
       "   guidelines=This is a translation dataset that contains texts. Please translate the text in the text field.\n",
       "   metadata_properties=[]\n",
       "   vectors_settings=[]\n",
       ")"
      ]
     },
     "execution_count": 124,
     "metadata": {},
     "output_type": "execute_result"
    }
   ],
   "source": [
    "argilla_ds.push_to_argilla(f\"DIBT Translation for {LANGUAGE}\", \"admin\")"
   ]
  },
  {
   "cell_type": "code",
   "execution_count": 184,
   "metadata": {},
   "outputs": [],
   "source": [
    "dataset = rg.FeedbackDataset.from_argilla(f\"DIBT Translation for {LANGUAGE}\", workspace=\"admin\")"
   ]
  },
  {
   "cell_type": "code",
   "execution_count": 132,
   "metadata": {},
   "outputs": [],
   "source": [
    "records = []\n",
    "for row in ds[\"train\"]:\n",
    "    record = rg.FeedbackRecord(\n",
    "        fields={\"source\": row[\"prompt\"]},\n",
    "        metadata=json.loads(row[\"metadata\"]),\n",
    "        external_id=row[\"row_idx\"],\n",
    "    )\n",
    "    records.append(record)"
   ]
  },
  {
   "cell_type": "code",
   "execution_count": 133,
   "metadata": {},
   "outputs": [
    {
     "name": "stdout",
     "output_type": "stream",
     "text": [
      "\u001b[2KPushing records to Argilla... \u001b[38;2;114;156;31m━━━━━━━━━━━━━━━━━━━━━━━━━━━━━━━━━━━━━\u001b[0m \u001b[35m100%\u001b[0m \u001b[36m0:00:00\u001b[0m\u001b[35m 96%\u001b[0m \u001b[36m0:00:01\u001b[0m:01\u001b[0m\n",
      "\u001b[?25h"
     ]
    }
   ],
   "source": [
    "dataset.add_records(records)"
   ]
  }
 ],
 "metadata": {
  "kernelspec": {
   "display_name": ".venv",
   "language": "python",
   "name": "python3"
  },
  "language_info": {
   "codemirror_mode": {
    "name": "ipython",
    "version": 3
   },
   "file_extension": ".py",
   "mimetype": "text/x-python",
   "name": "python",
   "nbconvert_exporter": "python",
   "pygments_lexer": "ipython3",
   "version": "3.11.1"
  }
 },
 "nbformat": 4,
 "nbformat_minor": 2
}
